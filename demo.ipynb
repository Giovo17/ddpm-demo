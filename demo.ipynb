{
 "cells": [
  {
   "cell_type": "markdown",
   "metadata": {},
   "source": [
    "# Demo"
   ]
  },
  {
   "cell_type": "code",
   "execution_count": 1,
   "metadata": {},
   "outputs": [
    {
     "name": "stdout",
     "output_type": "stream",
     "text": [
      "Using Apple GPU\n",
      "Random seed set as 42\n",
      "Using Apple GPU\n",
      "Random seed set as 42\n"
     ]
    }
   ],
   "source": [
    "import os\n",
    "import numpy as np\n",
    "import torch\n",
    "\n",
    "from ddpm.ddpm import DDPM\n",
    "from ddpm.models import BasicDiscreteTimeModel\n",
    "from main import train, animate\n",
    "\n",
    "\n",
    "# Set device\n",
    "if torch.cuda.is_available():\n",
    "    device = torch.device(\"cuda:0\")\n",
    "    torch.cuda.empty_cache()\n",
    "    print(\"Using NVIDIA GPU\")\n",
    "elif torch.backends.mps.is_available():\n",
    "    device = torch.device(\"mps\")\n",
    "    print(\"Using Apple GPU\")\n",
    "else:\n",
    "    device = torch.device(\"cpu\")\n",
    "    print(\"Using CPU\")\n",
    "\n",
    "# Set seeds\n",
    "seed = 42\n",
    "def set_seed(seed: int = seed) -> None:\n",
    "    np.random.seed(seed)\n",
    "    os.environ[\"PYTHONHASHSEED\"] = str(seed)\n",
    "    torch.manual_seed(seed)\n",
    "    if torch.cuda.is_available(): # Set cuda seeds\n",
    "        torch.cuda.manual_seed(seed)\n",
    "        torch.backends.cudnn.deterministic = True\n",
    "        torch.backends.cudnn.benchmark = False\n",
    "    print(f\"Random seed set as {seed}\")\n",
    "\n",
    "set_seed()"
   ]
  },
  {
   "cell_type": "code",
   "execution_count": 2,
   "metadata": {},
   "outputs": [
    {
     "name": "stdout",
     "output_type": "stream",
     "text": [
      "Creating model ...\n",
      "Model created!\n",
      "Training ...\n"
     ]
    },
    {
     "name": "stderr",
     "output_type": "stream",
     "text": [
      "Iter: 1550. Average Loss: 0.6977:  48%|████▊     | 1552/3200 [00:46<00:43, 38.28it/s]"
     ]
    }
   ],
   "source": [
    "d_model = 128\n",
    "n_layers = 2\n",
    "batch_size = 128\n",
    "n_epochs = 400\n",
    "sample_size = 512\n",
    "steps_between_sampling = 20\n",
    "seed = 42\n",
    "n_steps = 100\n",
    "\n",
    "\n",
    "print(\"Creating model ...\")\n",
    "model = BasicDiscreteTimeModel(d_model=d_model, n_layers=n_layers).to(device)\n",
    "ddpm = DDPM(n_steps=n_steps).to(device).to(device)\n",
    "print(\"Model created!\")\n",
    "\n",
    "print(\"Training ...\")\n",
    "result = train(\n",
    "    model=model,\n",
    "    ddpm=ddpm,\n",
    "    batch_size=batch_size,\n",
    "    n_epochs=n_epochs,\n",
    "    sample_size=sample_size,\n",
    "    steps_between_sampling=steps_between_sampling,\n",
    "    device=device\n",
    ")\n",
    "print(\"Training concluded!\")\n",
    "\n",
    "\n",
    "anim = animate(result.samples, save=False)"
   ]
  },
  {
   "cell_type": "code",
   "execution_count": 3,
   "metadata": {},
   "outputs": [
    {
     "ename": "NameError",
     "evalue": "name 'anim' is not defined",
     "output_type": "error",
     "traceback": [
      "\u001b[0;31m---------------------------------------------------------------------------\u001b[0m",
      "\u001b[0;31mNameError\u001b[0m                                 Traceback (most recent call last)",
      "Cell \u001b[0;32mIn[3], line 2\u001b[0m\n\u001b[1;32m      1\u001b[0m \u001b[38;5;28;01mfrom\u001b[39;00m \u001b[38;5;21;01mIPython\u001b[39;00m\u001b[38;5;21;01m.\u001b[39;00m\u001b[38;5;21;01mdisplay\u001b[39;00m \u001b[38;5;28;01mimport\u001b[39;00m HTML\n\u001b[0;32m----> 2\u001b[0m HTML(\u001b[43manim\u001b[49m\u001b[38;5;241m.\u001b[39mto_jshtml())\n",
      "\u001b[0;31mNameError\u001b[0m: name 'anim' is not defined"
     ]
    }
   ],
   "source": [
    "from IPython.display import HTML\n",
    "HTML(anim.to_jshtml())"
   ]
  }
 ],
 "metadata": {
  "interpreter": {
   "hash": "a4ec23678012130b2c4ac6883144b2cbc13ba64cf59babb72bb9d196356422d1"
  },
  "kernelspec": {
   "display_name": "Python 3.10.4 ('jonny')",
   "language": "python",
   "name": "python3"
  },
  "language_info": {
   "codemirror_mode": {
    "name": "ipython",
    "version": 3
   },
   "file_extension": ".py",
   "mimetype": "text/x-python",
   "name": "python",
   "nbconvert_exporter": "python",
   "pygments_lexer": "ipython3",
   "version": "3.12.2"
  },
  "orig_nbformat": 4
 },
 "nbformat": 4,
 "nbformat_minor": 2
}
